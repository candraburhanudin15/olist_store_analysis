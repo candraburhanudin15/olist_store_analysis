{
 "cells": [
  {
   "cell_type": "code",
   "execution_count": 1,
   "metadata": {},
   "outputs": [
    {
     "data": {
      "text/plain": [
       "0   2022-01-15\n",
       "1   2022-02-15\n",
       "2   2022-03-15\n",
       "3   2022-04-15\n",
       "Name: date_approval, dtype: datetime64[ns]"
      ]
     },
     "execution_count": 1,
     "metadata": {},
     "output_type": "execute_result"
    }
   ],
   "source": [
    "import pandas as pd\n",
    "\n",
    "# Contoh DataFrame\n",
    "data = {'date_purchase': ['2022-01-01', '2022-02-01', '2022-03-01', '2022-04-01'],\n",
    "        'date_approval': [None, '2022-02-15', None, '2022-04-15']}\n",
    "df = pd.DataFrame(data, dtype='datetime64[ns]')\n",
    "\n",
    "c= df[df['date_approval'].notna()].copy()\n",
    "c['time_approval'] = c['date_approval'] - c['date_purchase']\n",
    "c\n",
    "mean_time_approval = c['time_approval'].mean()\n",
    "\n",
    "df['date_approval'].fillna(df['date_purchase']+mean_time_approval)\n",
    "\n",
    "\n"
   ]
  },
  {
   "cell_type": "code",
   "execution_count": 2,
   "metadata": {},
   "outputs": [
    {
     "ename": "NameError",
     "evalue": "name 'np' is not defined",
     "output_type": "error",
     "traceback": [
      "\u001b[1;31m---------------------------------------------------------------------------\u001b[0m",
      "\u001b[1;31mNameError\u001b[0m                                 Traceback (most recent call last)",
      "\u001b[1;32mc:\\Users\\Candra Burhanudin\\Documents\\Dicoding\\Belajar analisis data dengan python\\Submission\\coba.ipynb Cell 2\u001b[0m line \u001b[0;36m2\n\u001b[0;32m      <a href='vscode-notebook-cell:/c%3A/Users/Candra%20Burhanudin/Documents/Dicoding/Belajar%20analisis%20data%20dengan%20python/Submission/coba.ipynb#W1sZmlsZQ%3D%3D?line=0'>1</a>\u001b[0m \u001b[39m# Contoh DataFrame dengan missing values secara acak\u001b[39;00m\n\u001b[1;32m----> <a href='vscode-notebook-cell:/c%3A/Users/Candra%20Burhanudin/Documents/Dicoding/Belajar%20analisis%20data%20dengan%20python/Submission/coba.ipynb#W1sZmlsZQ%3D%3D?line=1'>2</a>\u001b[0m data \u001b[39m=\u001b[39m {\u001b[39m'\u001b[39m\u001b[39mcol1\u001b[39m\u001b[39m'\u001b[39m: [\u001b[39m1\u001b[39m, \u001b[39m2\u001b[39m, np\u001b[39m.\u001b[39mnan, \u001b[39m4\u001b[39m, \u001b[39m5\u001b[39m],\n\u001b[0;32m      <a href='vscode-notebook-cell:/c%3A/Users/Candra%20Burhanudin/Documents/Dicoding/Belajar%20analisis%20data%20dengan%20python/Submission/coba.ipynb#W1sZmlsZQ%3D%3D?line=2'>3</a>\u001b[0m         \u001b[39m'\u001b[39m\u001b[39mcol2\u001b[39m\u001b[39m'\u001b[39m: [np\u001b[39m.\u001b[39mnan, \u001b[39m7\u001b[39m, \u001b[39m8\u001b[39m, np\u001b[39m.\u001b[39mnan, \u001b[39m10\u001b[39m],\n\u001b[0;32m      <a href='vscode-notebook-cell:/c%3A/Users/Candra%20Burhanudin/Documents/Dicoding/Belajar%20analisis%20data%20dengan%20python/Submission/coba.ipynb#W1sZmlsZQ%3D%3D?line=3'>4</a>\u001b[0m         \u001b[39m'\u001b[39m\u001b[39mcol3\u001b[39m\u001b[39m'\u001b[39m: [\u001b[39m11\u001b[39m, \u001b[39m12\u001b[39m, \u001b[39m13\u001b[39m, np\u001b[39m.\u001b[39mnan, \u001b[39m15\u001b[39m],\n\u001b[0;32m      <a href='vscode-notebook-cell:/c%3A/Users/Candra%20Burhanudin/Documents/Dicoding/Belajar%20analisis%20data%20dengan%20python/Submission/coba.ipynb#W1sZmlsZQ%3D%3D?line=4'>5</a>\u001b[0m         \u001b[39m'\u001b[39m\u001b[39mcol4\u001b[39m\u001b[39m'\u001b[39m: [\u001b[39m16\u001b[39m, np\u001b[39m.\u001b[39mnan, \u001b[39m18\u001b[39m, \u001b[39m19\u001b[39m, \u001b[39m20\u001b[39m],\n\u001b[0;32m      <a href='vscode-notebook-cell:/c%3A/Users/Candra%20Burhanudin/Documents/Dicoding/Belajar%20analisis%20data%20dengan%20python/Submission/coba.ipynb#W1sZmlsZQ%3D%3D?line=5'>6</a>\u001b[0m         \u001b[39m'\u001b[39m\u001b[39mcol5\u001b[39m\u001b[39m'\u001b[39m: [\u001b[39m21\u001b[39m, \u001b[39m22\u001b[39m, \u001b[39m23\u001b[39m, \u001b[39m24\u001b[39m, \u001b[39m25\u001b[39m]}\n\u001b[0;32m      <a href='vscode-notebook-cell:/c%3A/Users/Candra%20Burhanudin/Documents/Dicoding/Belajar%20analisis%20data%20dengan%20python/Submission/coba.ipynb#W1sZmlsZQ%3D%3D?line=6'>7</a>\u001b[0m df \u001b[39m=\u001b[39m pd\u001b[39m.\u001b[39mDataFrame(data)\n\u001b[0;32m      <a href='vscode-notebook-cell:/c%3A/Users/Candra%20Burhanudin/Documents/Dicoding/Belajar%20analisis%20data%20dengan%20python/Submission/coba.ipynb#W1sZmlsZQ%3D%3D?line=8'>9</a>\u001b[0m \u001b[39m# Menampilkan DataFrame sebelum penghapusan\u001b[39;00m\n",
      "\u001b[1;31mNameError\u001b[0m: name 'np' is not defined"
     ]
    }
   ],
   "source": [
    "# Contoh DataFrame dengan missing values secara acak\n",
    "data = {'col1': [1, 2, np.nan, 4, 5],\n",
    "        'col2': [np.nan, 7, 8, np.nan, 10],\n",
    "        'col3': [11, 12, 13, np.nan, 15],\n",
    "        'col4': [16, np.nan, 18, 19, 20],\n",
    "        'col5': [21, 22, 23, 24, 25]}\n",
    "df = pd.DataFrame(data)\n",
    "\n",
    "# Menampilkan DataFrame sebelum penghapusan\n",
    "print(\"DataFrame Sebelum Penghapusan:\")\n",
    "print(df)\n",
    "\n",
    "# Menghapus baris yang memiliki missing values di salah satu kolom\n",
    "df_cleaned = df.dropna(subset=['col1', 'col2', 'col3', 'col4', 'col5'])\n",
    "\n",
    "# Menampilkan DataFrame setelah penghapusan\n",
    "print(\"\\nDataFrame Setelah Penghapusan:\")\n",
    "print(df_cleaned)"
   ]
  },
  {
   "cell_type": "code",
   "execution_count": 2,
   "metadata": {},
   "outputs": [
    {
     "name": "stdout",
     "output_type": "stream",
     "text": [
      "Negara dari koordinat (-6.2088, 106.8456) adalah: Indonesia\n"
     ]
    }
   ],
   "source": [
    "from geopy.geocoders import Nominatim\n",
    "\n",
    "# Data geolocation_lat dan geolocation_lng\n",
    "latitude = -6.2088\n",
    "longitude = 106.8456\n",
    "\n",
    "# Inisialisasi objek geolocator\n",
    "geolocator = Nominatim(user_agent=\"geo_locator\")\n",
    "\n",
    "# Mendapatkan lokasi dari koordinat\n",
    "location = geolocator.reverse((latitude, longitude), language=\"en\")\n",
    "\n",
    "# Mendapatkan nama negara\n",
    "country = location.raw['address']['country']\n",
    "\n",
    "print(f\"Negara dari koordinat ({latitude}, {longitude}) adalah: {country}\")"
   ]
  },
  {
   "cell_type": "code",
   "execution_count": null,
   "metadata": {},
   "outputs": [],
   "source": [
    "import geopandas as gpd\n",
    "from shapely.geometry import Point\n",
    "\n",
    "# Buat GeoDataFrame dari koordinat\n",
    "geometry = [Point(-122.4194, 37.7749)]\n",
    "gdf = gpd.GeoDataFrame(geometry=geometry)\n",
    "\n",
    "# Reverse geocoding\n",
    "gdf['address'] = gdf['geometry'].apply(lambda x: gpd.tools.reverse_geocode(x))\n",
    "print(gdf['address'])"
   ]
  },
  {
   "cell_type": "code",
   "execution_count": null,
   "metadata": {},
   "outputs": [],
   "source": []
  }
 ],
 "metadata": {
  "kernelspec": {
   "display_name": "miniconda-env",
   "language": "python",
   "name": "python3"
  },
  "language_info": {
   "codemirror_mode": {
    "name": "ipython",
    "version": 3
   },
   "file_extension": ".py",
   "mimetype": "text/x-python",
   "name": "python",
   "nbconvert_exporter": "python",
   "pygments_lexer": "ipython3",
   "version": "3.10.10"
  }
 },
 "nbformat": 4,
 "nbformat_minor": 2
}
